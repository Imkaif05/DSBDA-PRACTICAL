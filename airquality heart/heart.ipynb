{
 "cells": [
  {
   "cell_type": "code",
   "execution_count": 50,
   "metadata": {
    "colab": {
     "base_uri": "https://localhost:8080/"
    },
    "executionInfo": {
     "elapsed": 3963,
     "status": "ok",
     "timestamp": 1649826477528,
     "user": {
      "displayName": "SHREESUDHA KEMBHAVI",
      "userId": "10086774456889755429"
     },
     "user_tz": -330
    },
    "id": "NML9WrhF2ZC9",
    "outputId": "f4752163-f136-4530-9a3f-0d898f8612f0"
   },
   "outputs": [
    {
     "name": "stdout",
     "output_type": "stream",
     "text": [
      "Drive already mounted at /content/drive/; to attempt to forcibly remount, call drive.mount(\"/content/drive/\", force_remount=True).\n"
     ]
    }
   ],
   "source": [
    "from google.colab import drive\n",
    "drive.mount('/content/drive/')"
   ]
  },
  {
   "cell_type": "code",
   "execution_count": 51,
   "metadata": {
    "executionInfo": {
     "elapsed": 35,
     "status": "ok",
     "timestamp": 1649826477529,
     "user": {
      "displayName": "SHREESUDHA KEMBHAVI",
      "userId": "10086774456889755429"
     },
     "user_tz": -330
    },
    "id": "Jj3iMIyNUa25"
   },
   "outputs": [],
   "source": [
    "import os\n",
    "import pandas as pd\n",
    "import numpy as np\n",
    "import matplotlib.pyplot as plt\n",
    "import seaborn as sns\n",
    "%matplotlib inline"
   ]
  },
  {
   "cell_type": "markdown",
   "metadata": {
    "id": "fxDd3yFNzmrp"
   },
   "source": [
    "<ol>\n",
    "<li>age (Age in years)</li>\n",
    "<li>sex : (1 = male, 0 = female)</li>\n",
    "<li>cp (Chest Pain Type): [ 0: asymptomatic, 1: atypical angina, 2:non-anginal pain, 3: typical angina]\n",
    "<li>trestbps (Resting Blood Pressure in mm/hg )\n",
    "<li>chol (Serum Cholesterol in mg/dl)\n",
    "<li>fps (Fasting Blood Sugar > 120 mg/dl): [0 = no, 1 = yes]\n",
    "<li>restecg (Resting ECG): [0: showing probable or definite left ventricular hypertrophy by Estes’ criteria, 1: normal, 2: having ST-T wave abnormality]\n",
    "<li>thalach (maximum heart rate achieved)\n",
    "<li>exang (Exercise Induced Angina): [1 = yes, 0 = no]\n",
    "<li>oldpeak (ST depression induced by exercise relative to rest)\n",
    "<li>slope (the slope of the peak exercise ST segment): [0: downsloping; 1: flat; 2: upsloping]\n",
    "<li>ca [number of major vessels (0–3)\n",
    "<li>thal : [1 = normal, 2 = fixed defect, 3 = reversible defect]\n",
    "<li>target: [0 = disease, 1 = no disease]\n",
    "</ol>\n"
   ]
  },
  {
   "cell_type": "code",
   "execution_count": 2,
   "metadata": {
    "executionInfo": {
     "elapsed": 35,
     "status": "ok",
     "timestamp": 1649826477529,
     "user": {
      "displayName": "SHREESUDHA KEMBHAVI",
      "userId": "10086774456889755429"
     },
     "user_tz": -330
    },
    "id": "BcTWWi2kR8zJ"
   },
   "outputs": [],
   "source": [
    "# url='/content/drive/MyDrive/heart.csv'\n",
    "url='heartdisease.csv'\n",
    "import pandas as pd\n",
    "import numpy as np\n",
    "df=pd.read_csv(url)"
   ]
  },
  {
   "cell_type": "code",
   "execution_count": 3,
   "metadata": {
    "colab": {
     "base_uri": "https://localhost:8080/"
    },
    "executionInfo": {
     "elapsed": 35,
     "status": "ok",
     "timestamp": 1649826477530,
     "user": {
      "displayName": "SHREESUDHA KEMBHAVI",
      "userId": "10086774456889755429"
     },
     "user_tz": -330
    },
    "id": "tvwXbkqOS7WM",
    "outputId": "b394ebcc-0162-4192-b93c-5b6100653813"
   },
   "outputs": [
    {
     "data": {
      "text/plain": [
       "(303, 14)"
      ]
     },
     "execution_count": 3,
     "metadata": {},
     "output_type": "execute_result"
    }
   ],
   "source": [
    "df.shape"
   ]
  },
  {
   "cell_type": "code",
   "execution_count": 4,
   "metadata": {
    "colab": {
     "base_uri": "https://localhost:8080/"
    },
    "executionInfo": {
     "elapsed": 32,
     "status": "ok",
     "timestamp": 1649826477530,
     "user": {
      "displayName": "SHREESUDHA KEMBHAVI",
      "userId": "10086774456889755429"
     },
     "user_tz": -330
    },
    "id": "wAoFrRYvS-mM",
    "outputId": "bd1b8c2c-3b64-4d23-a9d7-c42e52ede3fe"
   },
   "outputs": [
    {
     "name": "stdout",
     "output_type": "stream",
     "text": [
      "<class 'pandas.core.frame.DataFrame'>\n",
      "RangeIndex: 303 entries, 0 to 302\n",
      "Data columns (total 14 columns):\n",
      " #   Column    Non-Null Count  Dtype  \n",
      "---  ------    --------------  -----  \n",
      " 0   age       303 non-null    int64  \n",
      " 1   sex       303 non-null    int64  \n",
      " 2   cp        303 non-null    int64  \n",
      " 3   trestbps  303 non-null    int64  \n",
      " 4   chol      303 non-null    int64  \n",
      " 5   fbs       303 non-null    int64  \n",
      " 6   restecg   303 non-null    int64  \n",
      " 7   thalach   303 non-null    int64  \n",
      " 8   exang     303 non-null    int64  \n",
      " 9   oldpeak   303 non-null    float64\n",
      " 10  slope     303 non-null    int64  \n",
      " 11  ca        303 non-null    object \n",
      " 12  thal      303 non-null    object \n",
      " 13  num       303 non-null    int64  \n",
      "dtypes: float64(1), int64(11), object(2)\n",
      "memory usage: 33.3+ KB\n"
     ]
    }
   ],
   "source": [
    "df.info()"
   ]
  },
  {
   "cell_type": "markdown",
   "metadata": {
    "id": "7sWxoU6fzLJB"
   },
   "source": [
    "#Check data type"
   ]
  },
  {
   "cell_type": "markdown",
   "metadata": {
    "id": "7xQLDqKJ1Wmp"
   },
   "source": [
    "##The variables types are\n",
    "<ul>\n",
    "<li>Binary: sex, fbs, exang, target\n",
    "<li>Categorical: cp, restecg, slope, ca, thal\n",
    "<li>Continuous: age, trestbps, chol, thalac, oldpeak"
   ]
  },
  {
   "cell_type": "code",
   "execution_count": 5,
   "metadata": {
    "colab": {
     "base_uri": "https://localhost:8080/"
    },
    "executionInfo": {
     "elapsed": 30,
     "status": "ok",
     "timestamp": 1649826477530,
     "user": {
      "displayName": "SHREESUDHA KEMBHAVI",
      "userId": "10086774456889755429"
     },
     "user_tz": -330
    },
    "id": "3fryAI3IzNoZ",
    "outputId": "09974502-5e52-4b22-e3ac-38dc511f0acb"
   },
   "outputs": [
    {
     "data": {
      "text/plain": [
       "age           int64\n",
       "sex           int64\n",
       "cp            int64\n",
       "trestbps      int64\n",
       "chol          int64\n",
       "fbs           int64\n",
       "restecg       int64\n",
       "thalach       int64\n",
       "exang         int64\n",
       "oldpeak     float64\n",
       "slope         int64\n",
       "ca           object\n",
       "thal         object\n",
       "num           int64\n",
       "dtype: object"
      ]
     },
     "execution_count": 5,
     "metadata": {},
     "output_type": "execute_result"
    }
   ],
   "source": [
    "df.dtypes"
   ]
  },
  {
   "cell_type": "code",
   "execution_count": 6,
   "metadata": {
    "colab": {
     "base_uri": "https://localhost:8080/"
    },
    "executionInfo": {
     "elapsed": 28,
     "status": "ok",
     "timestamp": 1649826477530,
     "user": {
      "displayName": "SHREESUDHA KEMBHAVI",
      "userId": "10086774456889755429"
     },
     "user_tz": -330
    },
    "id": "60WIyjr_zRjH",
    "outputId": "751be549-13e0-4b21-91ec-ce1249542a89"
   },
   "outputs": [
    {
     "data": {
      "text/plain": [
       "age          41\n",
       "sex           2\n",
       "cp            4\n",
       "trestbps     50\n",
       "chol        152\n",
       "fbs           2\n",
       "restecg       3\n",
       "thalach      91\n",
       "exang         2\n",
       "oldpeak      40\n",
       "slope         3\n",
       "ca            5\n",
       "thal          4\n",
       "num           5\n",
       "dtype: int64"
      ]
     },
     "execution_count": 6,
     "metadata": {},
     "output_type": "execute_result"
    }
   ],
   "source": [
    "# to know unique values \n",
    "df.nunique()"
   ]
  },
  {
   "cell_type": "code",
   "execution_count": 7,
   "metadata": {
    "colab": {
     "base_uri": "https://localhost:8080/"
    },
    "executionInfo": {
     "elapsed": 28,
     "status": "ok",
     "timestamp": 1649826477531,
     "user": {
      "displayName": "SHREESUDHA KEMBHAVI",
      "userId": "10086774456889755429"
     },
     "user_tz": -330
    },
    "id": "IM-bMcQU1354",
    "outputId": "929c9ade-5c2e-4f63-b0f4-1f5da6427cdb"
   },
   "outputs": [
    {
     "data": {
      "text/plain": [
       "age           int64\n",
       "sex          object\n",
       "cp           object\n",
       "trestbps      int64\n",
       "chol          int64\n",
       "fbs          object\n",
       "restecg      object\n",
       "thalach       int64\n",
       "exang        object\n",
       "oldpeak     float64\n",
       "slope        object\n",
       "ca           object\n",
       "thal         object\n",
       "num           int64\n",
       "dtype: object"
      ]
     },
     "execution_count": 7,
     "metadata": {},
     "output_type": "execute_result"
    }
   ],
   "source": [
    "# change the categorical type to categorical variables\n",
    "df['sex'] = df['sex'].astype('object')\n",
    "df['cp'] = df['cp'].astype('object')\n",
    "df['fbs'] = df['fbs'].astype('object')\n",
    "df['restecg'] = df['restecg'].astype('object')\n",
    "df['exang'] = df['exang'].astype('object')\n",
    "df['slope'] = df['slope'].astype('object')\n",
    "df['ca'] = df['ca'].astype('object')\n",
    "df['thal'] = df['thal'].astype('object')\n",
    "df.dtypes"
   ]
  },
  {
   "cell_type": "markdown",
   "metadata": {
    "id": "sF63X48k1n-6"
   },
   "source": [
    "#Error Correction"
   ]
  },
  {
   "cell_type": "markdown",
   "metadata": {
    "id": "3Tyb8Vpl1rOi"
   },
   "source": [
    "##Check for the data characters mistakes\n",
    "###feature ‘ca’ ranges from 0–3, however, df.nunique() listed 0–4. So lets find the ‘4’ and change them to NaN."
   ]
  },
  {
   "cell_type": "code",
   "execution_count": 8,
   "metadata": {
    "colab": {
     "base_uri": "https://localhost:8080/"
    },
    "executionInfo": {
     "elapsed": 27,
     "status": "ok",
     "timestamp": 1649826477531,
     "user": {
      "displayName": "SHREESUDHA KEMBHAVI",
      "userId": "10086774456889755429"
     },
     "user_tz": -330
    },
    "id": "4a1UQDZB1w4z",
    "outputId": "1a8bb5e5-f02b-4eaa-8f3c-c4d043e364ea"
   },
   "outputs": [
    {
     "data": {
      "text/plain": [
       "array(['0', '3', '2', '1', '?'], dtype=object)"
      ]
     },
     "execution_count": 8,
     "metadata": {},
     "output_type": "execute_result"
    }
   ],
   "source": [
    "df['ca'].unique()"
   ]
  },
  {
   "cell_type": "code",
   "execution_count": 9,
   "metadata": {
    "colab": {
     "base_uri": "https://localhost:8080/"
    },
    "executionInfo": {
     "elapsed": 25,
     "status": "ok",
     "timestamp": 1649826477531,
     "user": {
      "displayName": "SHREESUDHA KEMBHAVI",
      "userId": "10086774456889755429"
     },
     "user_tz": -330
    },
    "id": "T9e_c39S2FGL",
    "outputId": "eae2e34f-9fa2-432f-9f2a-6a4c8f0cc1a7"
   },
   "outputs": [
    {
     "data": {
      "text/plain": [
       "ca\n",
       "0    176\n",
       "1     65\n",
       "2     38\n",
       "3     20\n",
       "?      4\n",
       "Name: count, dtype: int64"
      ]
     },
     "execution_count": 9,
     "metadata": {},
     "output_type": "execute_result"
    }
   ],
   "source": [
    "# to count the number in of each category decending order\n",
    "df.ca.value_counts()"
   ]
  },
  {
   "cell_type": "code",
   "execution_count": 10,
   "metadata": {
    "colab": {
     "base_uri": "https://localhost:8080/",
     "height": 206
    },
    "executionInfo": {
     "elapsed": 24,
     "status": "ok",
     "timestamp": 1649826477531,
     "user": {
      "displayName": "SHREESUDHA KEMBHAVI",
      "userId": "10086774456889755429"
     },
     "user_tz": -330
    },
    "id": "e8THf9GO2IrZ",
    "outputId": "5e1fe1b4-1615-4f50-aa77-f1cdefa974d5"
   },
   "outputs": [
    {
     "data": {
      "text/html": [
       "<div>\n",
       "<style scoped>\n",
       "    .dataframe tbody tr th:only-of-type {\n",
       "        vertical-align: middle;\n",
       "    }\n",
       "\n",
       "    .dataframe tbody tr th {\n",
       "        vertical-align: top;\n",
       "    }\n",
       "\n",
       "    .dataframe thead th {\n",
       "        text-align: right;\n",
       "    }\n",
       "</style>\n",
       "<table border=\"1\" class=\"dataframe\">\n",
       "  <thead>\n",
       "    <tr style=\"text-align: right;\">\n",
       "      <th></th>\n",
       "      <th>age</th>\n",
       "      <th>sex</th>\n",
       "      <th>cp</th>\n",
       "      <th>trestbps</th>\n",
       "      <th>chol</th>\n",
       "      <th>fbs</th>\n",
       "      <th>restecg</th>\n",
       "      <th>thalach</th>\n",
       "      <th>exang</th>\n",
       "      <th>oldpeak</th>\n",
       "      <th>slope</th>\n",
       "      <th>ca</th>\n",
       "      <th>thal</th>\n",
       "      <th>num</th>\n",
       "    </tr>\n",
       "  </thead>\n",
       "  <tbody>\n",
       "  </tbody>\n",
       "</table>\n",
       "</div>"
      ],
      "text/plain": [
       "Empty DataFrame\n",
       "Columns: [age, sex, cp, trestbps, chol, fbs, restecg, thalach, exang, oldpeak, slope, ca, thal, num]\n",
       "Index: []"
      ]
     },
     "execution_count": 10,
     "metadata": {},
     "output_type": "execute_result"
    }
   ],
   "source": [
    "df[df['ca']==4]"
   ]
  },
  {
   "cell_type": "code",
   "execution_count": 11,
   "metadata": {
    "executionInfo": {
     "elapsed": 23,
     "status": "ok",
     "timestamp": 1649826477531,
     "user": {
      "displayName": "SHREESUDHA KEMBHAVI",
      "userId": "10086774456889755429"
     },
     "user_tz": -330
    },
    "id": "HvWnoE3g2kmk"
   },
   "outputs": [],
   "source": [
    "df.loc[df['ca']==4,'ca']=np.NaN"
   ]
  },
  {
   "cell_type": "code",
   "execution_count": 12,
   "metadata": {
    "colab": {
     "base_uri": "https://localhost:8080/"
    },
    "executionInfo": {
     "elapsed": 24,
     "status": "ok",
     "timestamp": 1649826477532,
     "user": {
      "displayName": "SHREESUDHA KEMBHAVI",
      "userId": "10086774456889755429"
     },
     "user_tz": -330
    },
    "id": "KZ-Ypbm-2zUa",
    "outputId": "5a5bc32c-8692-40cb-cf69-2cdf2de8ad15"
   },
   "outputs": [
    {
     "data": {
      "text/plain": [
       "array(['0', '3', '2', '1', '?'], dtype=object)"
      ]
     },
     "execution_count": 12,
     "metadata": {},
     "output_type": "execute_result"
    }
   ],
   "source": [
    "df['ca'].unique()"
   ]
  },
  {
   "cell_type": "markdown",
   "metadata": {
    "id": "u5dF0hO13OtA"
   },
   "source": [
    "### Feature ‘thal’ ranges from 1–3, however, df.nunique() listed 0–3. There are two values of ‘0’. So lets change them to NaN"
   ]
  },
  {
   "cell_type": "code",
   "execution_count": 13,
   "metadata": {
    "colab": {
     "base_uri": "https://localhost:8080/"
    },
    "executionInfo": {
     "elapsed": 23,
     "status": "ok",
     "timestamp": 1649826477532,
     "user": {
      "displayName": "SHREESUDHA KEMBHAVI",
      "userId": "10086774456889755429"
     },
     "user_tz": -330
    },
    "id": "hzWHKClX3TH3",
    "outputId": "4fdb7237-e8ee-4295-f9ae-584156ee9c55"
   },
   "outputs": [
    {
     "data": {
      "text/plain": [
       "thal\n",
       "3    166\n",
       "7    117\n",
       "6     18\n",
       "?      2\n",
       "Name: count, dtype: int64"
      ]
     },
     "execution_count": 13,
     "metadata": {},
     "output_type": "execute_result"
    }
   ],
   "source": [
    "df.thal.value_counts()"
   ]
  },
  {
   "cell_type": "code",
   "execution_count": 14,
   "metadata": {
    "executionInfo": {
     "elapsed": 21,
     "status": "ok",
     "timestamp": 1649826477532,
     "user": {
      "displayName": "SHREESUDHA KEMBHAVI",
      "userId": "10086774456889755429"
     },
     "user_tz": -330
    },
    "id": "iqgvw7nu3pcx"
   },
   "outputs": [],
   "source": [
    "df.loc[df['thal']==0,'thal']=np.NaN"
   ]
  },
  {
   "cell_type": "code",
   "execution_count": 15,
   "metadata": {
    "colab": {
     "base_uri": "https://localhost:8080/",
     "height": 49
    },
    "executionInfo": {
     "elapsed": 22,
     "status": "ok",
     "timestamp": 1649826477533,
     "user": {
      "displayName": "SHREESUDHA KEMBHAVI",
      "userId": "10086774456889755429"
     },
     "user_tz": -330
    },
    "id": "TuLjJa3j4PHO",
    "outputId": "2085879a-470b-4e5f-c4ff-57ad5b162084"
   },
   "outputs": [
    {
     "data": {
      "text/html": [
       "<div>\n",
       "<style scoped>\n",
       "    .dataframe tbody tr th:only-of-type {\n",
       "        vertical-align: middle;\n",
       "    }\n",
       "\n",
       "    .dataframe tbody tr th {\n",
       "        vertical-align: top;\n",
       "    }\n",
       "\n",
       "    .dataframe thead th {\n",
       "        text-align: right;\n",
       "    }\n",
       "</style>\n",
       "<table border=\"1\" class=\"dataframe\">\n",
       "  <thead>\n",
       "    <tr style=\"text-align: right;\">\n",
       "      <th></th>\n",
       "      <th>age</th>\n",
       "      <th>sex</th>\n",
       "      <th>cp</th>\n",
       "      <th>trestbps</th>\n",
       "      <th>chol</th>\n",
       "      <th>fbs</th>\n",
       "      <th>restecg</th>\n",
       "      <th>thalach</th>\n",
       "      <th>exang</th>\n",
       "      <th>oldpeak</th>\n",
       "      <th>slope</th>\n",
       "      <th>ca</th>\n",
       "      <th>thal</th>\n",
       "      <th>num</th>\n",
       "    </tr>\n",
       "  </thead>\n",
       "  <tbody>\n",
       "  </tbody>\n",
       "</table>\n",
       "</div>"
      ],
      "text/plain": [
       "Empty DataFrame\n",
       "Columns: [age, sex, cp, trestbps, chol, fbs, restecg, thalach, exang, oldpeak, slope, ca, thal, num]\n",
       "Index: []"
      ]
     },
     "execution_count": 15,
     "metadata": {},
     "output_type": "execute_result"
    }
   ],
   "source": [
    "df[df['thal']==0]"
   ]
  },
  {
   "cell_type": "code",
   "execution_count": 16,
   "metadata": {
    "colab": {
     "base_uri": "https://localhost:8080/"
    },
    "executionInfo": {
     "elapsed": 21,
     "status": "ok",
     "timestamp": 1649826477533,
     "user": {
      "displayName": "SHREESUDHA KEMBHAVI",
      "userId": "10086774456889755429"
     },
     "user_tz": -330
    },
    "id": "gYbR8NOk4guR",
    "outputId": "e60c2d8b-3ffb-4be4-b528-4ef8ec02a85b"
   },
   "outputs": [
    {
     "data": {
      "text/plain": [
       "array(['6', '3', '7', '?'], dtype=object)"
      ]
     },
     "execution_count": 16,
     "metadata": {},
     "output_type": "execute_result"
    }
   ],
   "source": [
    "df['thal'].unique()"
   ]
  },
  {
   "cell_type": "markdown",
   "metadata": {
    "id": "y7vL9gPe4sMU"
   },
   "source": [
    "*italicized text*###Check for missing values and replace them"
   ]
  },
  {
   "cell_type": "code",
   "execution_count": 17,
   "metadata": {
    "colab": {
     "base_uri": "https://localhost:8080/"
    },
    "executionInfo": {
     "elapsed": 20,
     "status": "ok",
     "timestamp": 1649826477533,
     "user": {
      "displayName": "SHREESUDHA KEMBHAVI",
      "userId": "10086774456889755429"
     },
     "user_tz": -330
    },
    "id": "1q_QYyjJ4vgC",
    "outputId": "84072d01-79d8-4fa3-f12c-013b3e820010"
   },
   "outputs": [
    {
     "data": {
      "text/plain": [
       "age         0\n",
       "sex         0\n",
       "cp          0\n",
       "trestbps    0\n",
       "chol        0\n",
       "fbs         0\n",
       "restecg     0\n",
       "thalach     0\n",
       "exang       0\n",
       "oldpeak     0\n",
       "slope       0\n",
       "ca          0\n",
       "thal        0\n",
       "num         0\n",
       "dtype: int64"
      ]
     },
     "execution_count": 17,
     "metadata": {},
     "output_type": "execute_result"
    }
   ],
   "source": [
    "df.isna().sum()"
   ]
  },
  {
   "cell_type": "code",
   "execution_count": 18,
   "metadata": {
    "colab": {
     "base_uri": "https://localhost:8080/"
    },
    "executionInfo": {
     "elapsed": 20,
     "status": "ok",
     "timestamp": 1649826477534,
     "user": {
      "displayName": "SHREESUDHA KEMBHAVI",
      "userId": "10086774456889755429"
     },
     "user_tz": -330
    },
    "id": "nQarg_fs46P-",
    "outputId": "2c4ebd58-c393-48b5-edcd-fec10950f98b"
   },
   "outputs": [
    {
     "ename": "TypeError",
     "evalue": "Cannot convert [['6' '3' '7' '3' '3' '3' '3' '3' '7' '7' '6' '3' '6' '7' '7' '3' '7' '3'\n  '3' '3' '3' '3' '3' '7' '7' '3' '3' '3' '3' '7' '3' '7' '3' '7' '3' '3'\n  '7' '6' '7' '3' '7' '7' '3' '3' '3' '7' '3' '7' '3' '3' '3' '7' '3' '3'\n  '7' '7' '7' '7' '3' '3' '7' '3' '7' '3' '7' '7' '3' '7' '7' '3' '3' '7'\n  '7' '6' '3' '3' '7' '3' '3' '7' '3' '3' '3' '7' '3' '3' '3' '?' '3' '3'\n  '3' '7' '7' '3' '3' '7' '7' '7' '3' '3' '3' '3' '3' '3' '7' '7' '7' '7'\n  '7' '7' '7' '3' '6' '7' '7' '6' '3' '3' '7' '7' '7' '7' '3' '7' '3' '3'\n  '7' '7' '3' '3' '7' '7' '3' '3' '3' '3' '7' '7' '7' '3' '3' '7' '3' '7'\n  '7' '3' '7' '3' '3' '3' '7' '3' '7' '7' '3' '3' '7' '7' '7' '7' '7' '3'\n  '3' '3' '3' '7' '3' '3' '7' '3' '7' '7' '3' '3' '6' '7' '7' '6' '3' '3'\n  '7' '7' '3' '7' '3' '3' '7' '6' '7' '7' '3' '7' '7' '3' '3' '3' '3' '3'\n  '3' '3' '3' '3' '7' '7' '7' '7' '7' '7' '3' '3' '3' '7' '3' '7' '3' '7'\n  '3' '3' '3' '3' '3' '3' '3' '7' '3' '3' '3' '3' '3' '3' '3' '3' '3' '3'\n  '3' '3' '7' '7' '3' '3' '3' '3' '3' '3' '3' '3' '7' '3' '7' '3' '6' '7'\n  '7' '3' '3' '3' '3' '3' '3' '7' '3' '3' '3' '3' '3' '6' '?' '6' '7' '3'\n  '7' '6' '7' '3' '3' '7' '3' '3' '3' '3' '7' '3' '7' '3' '7' '6' '6' '7'\n  '7' '3' '7' '3' '6' '7' '3' '3' '6' '7' '7' '7' '7' '3' '3']] to numeric",
     "output_type": "error",
     "traceback": [
      "\u001b[1;31m---------------------------------------------------------------------------\u001b[0m",
      "\u001b[1;31mTypeError\u001b[0m                                 Traceback (most recent call last)",
      "Cell \u001b[1;32mIn[18], line 1\u001b[0m\n\u001b[1;32m----> 1\u001b[0m df \u001b[38;5;241m=\u001b[39m df\u001b[38;5;241m.\u001b[39mfillna(\u001b[43mdf\u001b[49m\u001b[38;5;241;43m.\u001b[39;49m\u001b[43mmedian\u001b[49m\u001b[43m(\u001b[49m\u001b[43m)\u001b[49m)\n\u001b[0;32m      2\u001b[0m df\u001b[38;5;241m.\u001b[39misnull()\u001b[38;5;241m.\u001b[39msum()\n",
      "File \u001b[1;32m~\\AppData\\Local\\Programs\\Python\\Python311\\Lib\\site-packages\\pandas\\core\\frame.py:11351\u001b[0m, in \u001b[0;36mDataFrame.median\u001b[1;34m(self, axis, skipna, numeric_only, **kwargs)\u001b[0m\n\u001b[0;32m  11343\u001b[0m \u001b[38;5;129m@doc\u001b[39m(make_doc(\u001b[38;5;124m\"\u001b[39m\u001b[38;5;124mmedian\u001b[39m\u001b[38;5;124m\"\u001b[39m, ndim\u001b[38;5;241m=\u001b[39m\u001b[38;5;241m2\u001b[39m))\n\u001b[0;32m  11344\u001b[0m \u001b[38;5;28;01mdef\u001b[39;00m \u001b[38;5;21mmedian\u001b[39m(\n\u001b[0;32m  11345\u001b[0m     \u001b[38;5;28mself\u001b[39m,\n\u001b[1;32m   (...)\u001b[0m\n\u001b[0;32m  11349\u001b[0m     \u001b[38;5;241m*\u001b[39m\u001b[38;5;241m*\u001b[39mkwargs,\n\u001b[0;32m  11350\u001b[0m ):\n\u001b[1;32m> 11351\u001b[0m     result \u001b[38;5;241m=\u001b[39m \u001b[38;5;28;43msuper\u001b[39;49m\u001b[43m(\u001b[49m\u001b[43m)\u001b[49m\u001b[38;5;241;43m.\u001b[39;49m\u001b[43mmedian\u001b[49m\u001b[43m(\u001b[49m\u001b[43maxis\u001b[49m\u001b[43m,\u001b[49m\u001b[43m \u001b[49m\u001b[43mskipna\u001b[49m\u001b[43m,\u001b[49m\u001b[43m \u001b[49m\u001b[43mnumeric_only\u001b[49m\u001b[43m,\u001b[49m\u001b[43m \u001b[49m\u001b[38;5;241;43m*\u001b[39;49m\u001b[38;5;241;43m*\u001b[39;49m\u001b[43mkwargs\u001b[49m\u001b[43m)\u001b[49m\n\u001b[0;32m  11352\u001b[0m     \u001b[38;5;28;01mif\u001b[39;00m \u001b[38;5;28misinstance\u001b[39m(result, Series):\n\u001b[0;32m  11353\u001b[0m         result \u001b[38;5;241m=\u001b[39m result\u001b[38;5;241m.\u001b[39m__finalize__(\u001b[38;5;28mself\u001b[39m, method\u001b[38;5;241m=\u001b[39m\u001b[38;5;124m\"\u001b[39m\u001b[38;5;124mmedian\u001b[39m\u001b[38;5;124m\"\u001b[39m)\n",
      "File \u001b[1;32m~\\AppData\\Local\\Programs\\Python\\Python311\\Lib\\site-packages\\pandas\\core\\generic.py:11980\u001b[0m, in \u001b[0;36mNDFrame.median\u001b[1;34m(self, axis, skipna, numeric_only, **kwargs)\u001b[0m\n\u001b[0;32m  11973\u001b[0m \u001b[38;5;28;01mdef\u001b[39;00m \u001b[38;5;21mmedian\u001b[39m(\n\u001b[0;32m  11974\u001b[0m     \u001b[38;5;28mself\u001b[39m,\n\u001b[0;32m  11975\u001b[0m     axis: Axis \u001b[38;5;241m|\u001b[39m \u001b[38;5;28;01mNone\u001b[39;00m \u001b[38;5;241m=\u001b[39m \u001b[38;5;241m0\u001b[39m,\n\u001b[1;32m   (...)\u001b[0m\n\u001b[0;32m  11978\u001b[0m     \u001b[38;5;241m*\u001b[39m\u001b[38;5;241m*\u001b[39mkwargs,\n\u001b[0;32m  11979\u001b[0m ) \u001b[38;5;241m-\u001b[39m\u001b[38;5;241m>\u001b[39m Series \u001b[38;5;241m|\u001b[39m \u001b[38;5;28mfloat\u001b[39m:\n\u001b[1;32m> 11980\u001b[0m     \u001b[38;5;28;01mreturn\u001b[39;00m \u001b[38;5;28;43mself\u001b[39;49m\u001b[38;5;241;43m.\u001b[39;49m\u001b[43m_stat_function\u001b[49m\u001b[43m(\u001b[49m\n\u001b[0;32m  11981\u001b[0m \u001b[43m        \u001b[49m\u001b[38;5;124;43m\"\u001b[39;49m\u001b[38;5;124;43mmedian\u001b[39;49m\u001b[38;5;124;43m\"\u001b[39;49m\u001b[43m,\u001b[49m\u001b[43m \u001b[49m\u001b[43mnanops\u001b[49m\u001b[38;5;241;43m.\u001b[39;49m\u001b[43mnanmedian\u001b[49m\u001b[43m,\u001b[49m\u001b[43m \u001b[49m\u001b[43maxis\u001b[49m\u001b[43m,\u001b[49m\u001b[43m \u001b[49m\u001b[43mskipna\u001b[49m\u001b[43m,\u001b[49m\u001b[43m \u001b[49m\u001b[43mnumeric_only\u001b[49m\u001b[43m,\u001b[49m\u001b[43m \u001b[49m\u001b[38;5;241;43m*\u001b[39;49m\u001b[38;5;241;43m*\u001b[39;49m\u001b[43mkwargs\u001b[49m\n\u001b[0;32m  11982\u001b[0m \u001b[43m    \u001b[49m\u001b[43m)\u001b[49m\n",
      "File \u001b[1;32m~\\AppData\\Local\\Programs\\Python\\Python311\\Lib\\site-packages\\pandas\\core\\generic.py:11926\u001b[0m, in \u001b[0;36mNDFrame._stat_function\u001b[1;34m(self, name, func, axis, skipna, numeric_only, **kwargs)\u001b[0m\n\u001b[0;32m  11922\u001b[0m nv\u001b[38;5;241m.\u001b[39mvalidate_func(name, (), kwargs)\n\u001b[0;32m  11924\u001b[0m validate_bool_kwarg(skipna, \u001b[38;5;124m\"\u001b[39m\u001b[38;5;124mskipna\u001b[39m\u001b[38;5;124m\"\u001b[39m, none_allowed\u001b[38;5;241m=\u001b[39m\u001b[38;5;28;01mFalse\u001b[39;00m)\n\u001b[1;32m> 11926\u001b[0m \u001b[38;5;28;01mreturn\u001b[39;00m \u001b[38;5;28;43mself\u001b[39;49m\u001b[38;5;241;43m.\u001b[39;49m\u001b[43m_reduce\u001b[49m\u001b[43m(\u001b[49m\n\u001b[0;32m  11927\u001b[0m \u001b[43m    \u001b[49m\u001b[43mfunc\u001b[49m\u001b[43m,\u001b[49m\u001b[43m \u001b[49m\u001b[43mname\u001b[49m\u001b[38;5;241;43m=\u001b[39;49m\u001b[43mname\u001b[49m\u001b[43m,\u001b[49m\u001b[43m \u001b[49m\u001b[43maxis\u001b[49m\u001b[38;5;241;43m=\u001b[39;49m\u001b[43maxis\u001b[49m\u001b[43m,\u001b[49m\u001b[43m \u001b[49m\u001b[43mskipna\u001b[49m\u001b[38;5;241;43m=\u001b[39;49m\u001b[43mskipna\u001b[49m\u001b[43m,\u001b[49m\u001b[43m \u001b[49m\u001b[43mnumeric_only\u001b[49m\u001b[38;5;241;43m=\u001b[39;49m\u001b[43mnumeric_only\u001b[49m\n\u001b[0;32m  11928\u001b[0m \u001b[43m\u001b[49m\u001b[43m)\u001b[49m\n",
      "File \u001b[1;32m~\\AppData\\Local\\Programs\\Python\\Python311\\Lib\\site-packages\\pandas\\core\\frame.py:11207\u001b[0m, in \u001b[0;36mDataFrame._reduce\u001b[1;34m(self, op, name, axis, skipna, numeric_only, filter_type, **kwds)\u001b[0m\n\u001b[0;32m  11203\u001b[0m     df \u001b[38;5;241m=\u001b[39m df\u001b[38;5;241m.\u001b[39mT\n\u001b[0;32m  11205\u001b[0m \u001b[38;5;66;03m# After possibly _get_data and transposing, we are now in the\u001b[39;00m\n\u001b[0;32m  11206\u001b[0m \u001b[38;5;66;03m#  simple case where we can use BlockManager.reduce\u001b[39;00m\n\u001b[1;32m> 11207\u001b[0m res \u001b[38;5;241m=\u001b[39m \u001b[43mdf\u001b[49m\u001b[38;5;241;43m.\u001b[39;49m\u001b[43m_mgr\u001b[49m\u001b[38;5;241;43m.\u001b[39;49m\u001b[43mreduce\u001b[49m\u001b[43m(\u001b[49m\u001b[43mblk_func\u001b[49m\u001b[43m)\u001b[49m\n\u001b[0;32m  11208\u001b[0m out \u001b[38;5;241m=\u001b[39m df\u001b[38;5;241m.\u001b[39m_constructor_from_mgr(res, axes\u001b[38;5;241m=\u001b[39mres\u001b[38;5;241m.\u001b[39maxes)\u001b[38;5;241m.\u001b[39miloc[\u001b[38;5;241m0\u001b[39m]\n\u001b[0;32m  11209\u001b[0m \u001b[38;5;28;01mif\u001b[39;00m out_dtype \u001b[38;5;129;01mis\u001b[39;00m \u001b[38;5;129;01mnot\u001b[39;00m \u001b[38;5;28;01mNone\u001b[39;00m \u001b[38;5;129;01mand\u001b[39;00m out\u001b[38;5;241m.\u001b[39mdtype \u001b[38;5;241m!=\u001b[39m \u001b[38;5;124m\"\u001b[39m\u001b[38;5;124mboolean\u001b[39m\u001b[38;5;124m\"\u001b[39m:\n",
      "File \u001b[1;32m~\\AppData\\Local\\Programs\\Python\\Python311\\Lib\\site-packages\\pandas\\core\\internals\\managers.py:1459\u001b[0m, in \u001b[0;36mBlockManager.reduce\u001b[1;34m(self, func)\u001b[0m\n\u001b[0;32m   1457\u001b[0m res_blocks: \u001b[38;5;28mlist\u001b[39m[Block] \u001b[38;5;241m=\u001b[39m []\n\u001b[0;32m   1458\u001b[0m \u001b[38;5;28;01mfor\u001b[39;00m blk \u001b[38;5;129;01min\u001b[39;00m \u001b[38;5;28mself\u001b[39m\u001b[38;5;241m.\u001b[39mblocks:\n\u001b[1;32m-> 1459\u001b[0m     nbs \u001b[38;5;241m=\u001b[39m \u001b[43mblk\u001b[49m\u001b[38;5;241;43m.\u001b[39;49m\u001b[43mreduce\u001b[49m\u001b[43m(\u001b[49m\u001b[43mfunc\u001b[49m\u001b[43m)\u001b[49m\n\u001b[0;32m   1460\u001b[0m     res_blocks\u001b[38;5;241m.\u001b[39mextend(nbs)\n\u001b[0;32m   1462\u001b[0m index \u001b[38;5;241m=\u001b[39m Index([\u001b[38;5;28;01mNone\u001b[39;00m])  \u001b[38;5;66;03m# placeholder\u001b[39;00m\n",
      "File \u001b[1;32m~\\AppData\\Local\\Programs\\Python\\Python311\\Lib\\site-packages\\pandas\\core\\internals\\blocks.py:377\u001b[0m, in \u001b[0;36mBlock.reduce\u001b[1;34m(self, func)\u001b[0m\n\u001b[0;32m    371\u001b[0m \u001b[38;5;129m@final\u001b[39m\n\u001b[0;32m    372\u001b[0m \u001b[38;5;28;01mdef\u001b[39;00m \u001b[38;5;21mreduce\u001b[39m(\u001b[38;5;28mself\u001b[39m, func) \u001b[38;5;241m-\u001b[39m\u001b[38;5;241m>\u001b[39m \u001b[38;5;28mlist\u001b[39m[Block]:\n\u001b[0;32m    373\u001b[0m     \u001b[38;5;66;03m# We will apply the function and reshape the result into a single-row\u001b[39;00m\n\u001b[0;32m    374\u001b[0m     \u001b[38;5;66;03m#  Block with the same mgr_locs; squeezing will be done at a higher level\u001b[39;00m\n\u001b[0;32m    375\u001b[0m     \u001b[38;5;28;01massert\u001b[39;00m \u001b[38;5;28mself\u001b[39m\u001b[38;5;241m.\u001b[39mndim \u001b[38;5;241m==\u001b[39m \u001b[38;5;241m2\u001b[39m\n\u001b[1;32m--> 377\u001b[0m     result \u001b[38;5;241m=\u001b[39m \u001b[43mfunc\u001b[49m\u001b[43m(\u001b[49m\u001b[38;5;28;43mself\u001b[39;49m\u001b[38;5;241;43m.\u001b[39;49m\u001b[43mvalues\u001b[49m\u001b[43m)\u001b[49m\n\u001b[0;32m    379\u001b[0m     \u001b[38;5;28;01mif\u001b[39;00m \u001b[38;5;28mself\u001b[39m\u001b[38;5;241m.\u001b[39mvalues\u001b[38;5;241m.\u001b[39mndim \u001b[38;5;241m==\u001b[39m \u001b[38;5;241m1\u001b[39m:\n\u001b[0;32m    380\u001b[0m         res_values \u001b[38;5;241m=\u001b[39m result\n",
      "File \u001b[1;32m~\\AppData\\Local\\Programs\\Python\\Python311\\Lib\\site-packages\\pandas\\core\\frame.py:11139\u001b[0m, in \u001b[0;36mDataFrame._reduce.<locals>.blk_func\u001b[1;34m(values, axis)\u001b[0m\n\u001b[0;32m  11137\u001b[0m         \u001b[38;5;28;01mreturn\u001b[39;00m np\u001b[38;5;241m.\u001b[39marray([result])\n\u001b[0;32m  11138\u001b[0m \u001b[38;5;28;01melse\u001b[39;00m:\n\u001b[1;32m> 11139\u001b[0m     \u001b[38;5;28;01mreturn\u001b[39;00m \u001b[43mop\u001b[49m\u001b[43m(\u001b[49m\u001b[43mvalues\u001b[49m\u001b[43m,\u001b[49m\u001b[43m \u001b[49m\u001b[43maxis\u001b[49m\u001b[38;5;241;43m=\u001b[39;49m\u001b[43maxis\u001b[49m\u001b[43m,\u001b[49m\u001b[43m \u001b[49m\u001b[43mskipna\u001b[49m\u001b[38;5;241;43m=\u001b[39;49m\u001b[43mskipna\u001b[49m\u001b[43m,\u001b[49m\u001b[43m \u001b[49m\u001b[38;5;241;43m*\u001b[39;49m\u001b[38;5;241;43m*\u001b[39;49m\u001b[43mkwds\u001b[49m\u001b[43m)\u001b[49m\n",
      "File \u001b[1;32m~\\AppData\\Local\\Programs\\Python\\Python311\\Lib\\site-packages\\pandas\\core\\nanops.py:147\u001b[0m, in \u001b[0;36mbottleneck_switch.__call__.<locals>.f\u001b[1;34m(values, axis, skipna, **kwds)\u001b[0m\n\u001b[0;32m    145\u001b[0m         result \u001b[38;5;241m=\u001b[39m alt(values, axis\u001b[38;5;241m=\u001b[39maxis, skipna\u001b[38;5;241m=\u001b[39mskipna, \u001b[38;5;241m*\u001b[39m\u001b[38;5;241m*\u001b[39mkwds)\n\u001b[0;32m    146\u001b[0m \u001b[38;5;28;01melse\u001b[39;00m:\n\u001b[1;32m--> 147\u001b[0m     result \u001b[38;5;241m=\u001b[39m \u001b[43malt\u001b[49m\u001b[43m(\u001b[49m\u001b[43mvalues\u001b[49m\u001b[43m,\u001b[49m\u001b[43m \u001b[49m\u001b[43maxis\u001b[49m\u001b[38;5;241;43m=\u001b[39;49m\u001b[43maxis\u001b[49m\u001b[43m,\u001b[49m\u001b[43m \u001b[49m\u001b[43mskipna\u001b[49m\u001b[38;5;241;43m=\u001b[39;49m\u001b[43mskipna\u001b[49m\u001b[43m,\u001b[49m\u001b[43m \u001b[49m\u001b[38;5;241;43m*\u001b[39;49m\u001b[38;5;241;43m*\u001b[39;49m\u001b[43mkwds\u001b[49m\u001b[43m)\u001b[49m\n\u001b[0;32m    149\u001b[0m \u001b[38;5;28;01mreturn\u001b[39;00m result\n",
      "File \u001b[1;32m~\\AppData\\Local\\Programs\\Python\\Python311\\Lib\\site-packages\\pandas\\core\\nanops.py:783\u001b[0m, in \u001b[0;36mnanmedian\u001b[1;34m(values, axis, skipna, mask)\u001b[0m\n\u001b[0;32m    781\u001b[0m     inferred \u001b[38;5;241m=\u001b[39m lib\u001b[38;5;241m.\u001b[39minfer_dtype(values)\n\u001b[0;32m    782\u001b[0m     \u001b[38;5;28;01mif\u001b[39;00m inferred \u001b[38;5;129;01min\u001b[39;00m [\u001b[38;5;124m\"\u001b[39m\u001b[38;5;124mstring\u001b[39m\u001b[38;5;124m\"\u001b[39m, \u001b[38;5;124m\"\u001b[39m\u001b[38;5;124mmixed\u001b[39m\u001b[38;5;124m\"\u001b[39m]:\n\u001b[1;32m--> 783\u001b[0m         \u001b[38;5;28;01mraise\u001b[39;00m \u001b[38;5;167;01mTypeError\u001b[39;00m(\u001b[38;5;124mf\u001b[39m\u001b[38;5;124m\"\u001b[39m\u001b[38;5;124mCannot convert \u001b[39m\u001b[38;5;132;01m{\u001b[39;00mvalues\u001b[38;5;132;01m}\u001b[39;00m\u001b[38;5;124m to numeric\u001b[39m\u001b[38;5;124m\"\u001b[39m)\n\u001b[0;32m    784\u001b[0m \u001b[38;5;28;01mtry\u001b[39;00m:\n\u001b[0;32m    785\u001b[0m     values \u001b[38;5;241m=\u001b[39m values\u001b[38;5;241m.\u001b[39mastype(\u001b[38;5;124m\"\u001b[39m\u001b[38;5;124mf8\u001b[39m\u001b[38;5;124m\"\u001b[39m)\n",
      "\u001b[1;31mTypeError\u001b[0m: Cannot convert [['6' '3' '7' '3' '3' '3' '3' '3' '7' '7' '6' '3' '6' '7' '7' '3' '7' '3'\n  '3' '3' '3' '3' '3' '7' '7' '3' '3' '3' '3' '7' '3' '7' '3' '7' '3' '3'\n  '7' '6' '7' '3' '7' '7' '3' '3' '3' '7' '3' '7' '3' '3' '3' '7' '3' '3'\n  '7' '7' '7' '7' '3' '3' '7' '3' '7' '3' '7' '7' '3' '7' '7' '3' '3' '7'\n  '7' '6' '3' '3' '7' '3' '3' '7' '3' '3' '3' '7' '3' '3' '3' '?' '3' '3'\n  '3' '7' '7' '3' '3' '7' '7' '7' '3' '3' '3' '3' '3' '3' '7' '7' '7' '7'\n  '7' '7' '7' '3' '6' '7' '7' '6' '3' '3' '7' '7' '7' '7' '3' '7' '3' '3'\n  '7' '7' '3' '3' '7' '7' '3' '3' '3' '3' '7' '7' '7' '3' '3' '7' '3' '7'\n  '7' '3' '7' '3' '3' '3' '7' '3' '7' '7' '3' '3' '7' '7' '7' '7' '7' '3'\n  '3' '3' '3' '7' '3' '3' '7' '3' '7' '7' '3' '3' '6' '7' '7' '6' '3' '3'\n  '7' '7' '3' '7' '3' '3' '7' '6' '7' '7' '3' '7' '7' '3' '3' '3' '3' '3'\n  '3' '3' '3' '3' '7' '7' '7' '7' '7' '7' '3' '3' '3' '7' '3' '7' '3' '7'\n  '3' '3' '3' '3' '3' '3' '3' '7' '3' '3' '3' '3' '3' '3' '3' '3' '3' '3'\n  '3' '3' '7' '7' '3' '3' '3' '3' '3' '3' '3' '3' '7' '3' '7' '3' '6' '7'\n  '7' '3' '3' '3' '3' '3' '3' '7' '3' '3' '3' '3' '3' '6' '?' '6' '7' '3'\n  '7' '6' '7' '3' '3' '7' '3' '3' '3' '3' '7' '3' '7' '3' '7' '6' '6' '7'\n  '7' '3' '7' '3' '6' '7' '3' '3' '6' '7' '7' '7' '7' '3' '3']] to numeric"
     ]
    }
   ],
   "source": [
    "df = df.fillna(df.median())\n",
    "df.isnull().sum()"
   ]
  },
  {
   "cell_type": "markdown",
   "metadata": {
    "id": "-2VtvKVF5abp"
   },
   "source": [
    "###Check for duplicate rows"
   ]
  },
  {
   "cell_type": "code",
   "execution_count": null,
   "metadata": {
    "colab": {
     "base_uri": "https://localhost:8080/"
    },
    "executionInfo": {
     "elapsed": 18,
     "status": "ok",
     "timestamp": 1649826477534,
     "user": {
      "displayName": "SHREESUDHA KEMBHAVI",
      "userId": "10086774456889755429"
     },
     "user_tz": -330
    },
    "id": "OdsSfVHQ5cpm",
    "outputId": "35acc5b8-f20a-46c3-c4ed-871423761976"
   },
   "outputs": [],
   "source": [
    "duplicated=df.duplicated().sum()\n",
    "if duplicated:\n",
    "  print(\"Duplicated rows :{}\".format(duplicated))\n",
    "else:\n",
    "  print(\"No duplicates\")\n"
   ]
  },
  {
   "cell_type": "code",
   "execution_count": 19,
   "metadata": {
    "colab": {
     "base_uri": "https://localhost:8080/",
     "height": 112
    },
    "executionInfo": {
     "elapsed": 17,
     "status": "ok",
     "timestamp": 1649826477535,
     "user": {
      "displayName": "SHREESUDHA KEMBHAVI",
      "userId": "10086774456889755429"
     },
     "user_tz": -330
    },
    "id": "FCBHsRcc50hl",
    "outputId": "6ce93e50-0e25-4282-9894-9e19d1bc3791"
   },
   "outputs": [
    {
     "data": {
      "text/html": [
       "<div>\n",
       "<style scoped>\n",
       "    .dataframe tbody tr th:only-of-type {\n",
       "        vertical-align: middle;\n",
       "    }\n",
       "\n",
       "    .dataframe tbody tr th {\n",
       "        vertical-align: top;\n",
       "    }\n",
       "\n",
       "    .dataframe thead th {\n",
       "        text-align: right;\n",
       "    }\n",
       "</style>\n",
       "<table border=\"1\" class=\"dataframe\">\n",
       "  <thead>\n",
       "    <tr style=\"text-align: right;\">\n",
       "      <th></th>\n",
       "      <th>age</th>\n",
       "      <th>sex</th>\n",
       "      <th>cp</th>\n",
       "      <th>trestbps</th>\n",
       "      <th>chol</th>\n",
       "      <th>fbs</th>\n",
       "      <th>restecg</th>\n",
       "      <th>thalach</th>\n",
       "      <th>exang</th>\n",
       "      <th>oldpeak</th>\n",
       "      <th>slope</th>\n",
       "      <th>ca</th>\n",
       "      <th>thal</th>\n",
       "      <th>num</th>\n",
       "    </tr>\n",
       "  </thead>\n",
       "  <tbody>\n",
       "  </tbody>\n",
       "</table>\n",
       "</div>"
      ],
      "text/plain": [
       "Empty DataFrame\n",
       "Columns: [age, sex, cp, trestbps, chol, fbs, restecg, thalach, exang, oldpeak, slope, ca, thal, num]\n",
       "Index: []"
      ]
     },
     "execution_count": 19,
     "metadata": {},
     "output_type": "execute_result"
    }
   ],
   "source": [
    "duplicates=df[df.duplicated(keep=False)]\n",
    "duplicates.head()"
   ]
  },
  {
   "cell_type": "markdown",
   "metadata": {
    "id": "1zceXu818ArU"
   },
   "source": [
    "###statistical summary\n",
    "<ol>\n",
    "<li>check on the min and max value for the categorical variables (min-max). Sex (0–1), cp (0–3), fbs (0–1), restecg (0–2), exang (0–1), slope (0–2), ca (0–3), thal (0–3). \n",
    "<li>Observe the mean, std, 25% and 75% on the continuous variables."
   ]
  },
  {
   "cell_type": "code",
   "execution_count": 20,
   "metadata": {
    "colab": {
     "base_uri": "https://localhost:8080/",
     "height": 364
    },
    "executionInfo": {
     "elapsed": 17,
     "status": "ok",
     "timestamp": 1649826477535,
     "user": {
      "displayName": "SHREESUDHA KEMBHAVI",
      "userId": "10086774456889755429"
     },
     "user_tz": -330
    },
    "id": "OJJpcvaV8Ctm",
    "outputId": "8b6e9aa8-39d7-4e65-bc42-176b2dc8adaf"
   },
   "outputs": [
    {
     "data": {
      "text/html": [
       "<div>\n",
       "<style scoped>\n",
       "    .dataframe tbody tr th:only-of-type {\n",
       "        vertical-align: middle;\n",
       "    }\n",
       "\n",
       "    .dataframe tbody tr th {\n",
       "        vertical-align: top;\n",
       "    }\n",
       "\n",
       "    .dataframe thead th {\n",
       "        text-align: right;\n",
       "    }\n",
       "</style>\n",
       "<table border=\"1\" class=\"dataframe\">\n",
       "  <thead>\n",
       "    <tr style=\"text-align: right;\">\n",
       "      <th></th>\n",
       "      <th>age</th>\n",
       "      <th>trestbps</th>\n",
       "      <th>chol</th>\n",
       "      <th>thalach</th>\n",
       "      <th>oldpeak</th>\n",
       "      <th>num</th>\n",
       "    </tr>\n",
       "  </thead>\n",
       "  <tbody>\n",
       "    <tr>\n",
       "      <th>count</th>\n",
       "      <td>303.000000</td>\n",
       "      <td>303.000000</td>\n",
       "      <td>303.000000</td>\n",
       "      <td>303.000000</td>\n",
       "      <td>303.000000</td>\n",
       "      <td>303.000000</td>\n",
       "    </tr>\n",
       "    <tr>\n",
       "      <th>mean</th>\n",
       "      <td>54.438944</td>\n",
       "      <td>131.689769</td>\n",
       "      <td>246.693069</td>\n",
       "      <td>149.607261</td>\n",
       "      <td>1.039604</td>\n",
       "      <td>0.937294</td>\n",
       "    </tr>\n",
       "    <tr>\n",
       "      <th>std</th>\n",
       "      <td>9.038662</td>\n",
       "      <td>17.599748</td>\n",
       "      <td>51.776918</td>\n",
       "      <td>22.875003</td>\n",
       "      <td>1.161075</td>\n",
       "      <td>1.228536</td>\n",
       "    </tr>\n",
       "    <tr>\n",
       "      <th>min</th>\n",
       "      <td>29.000000</td>\n",
       "      <td>94.000000</td>\n",
       "      <td>126.000000</td>\n",
       "      <td>71.000000</td>\n",
       "      <td>0.000000</td>\n",
       "      <td>0.000000</td>\n",
       "    </tr>\n",
       "    <tr>\n",
       "      <th>25%</th>\n",
       "      <td>48.000000</td>\n",
       "      <td>120.000000</td>\n",
       "      <td>211.000000</td>\n",
       "      <td>133.500000</td>\n",
       "      <td>0.000000</td>\n",
       "      <td>0.000000</td>\n",
       "    </tr>\n",
       "    <tr>\n",
       "      <th>50%</th>\n",
       "      <td>56.000000</td>\n",
       "      <td>130.000000</td>\n",
       "      <td>241.000000</td>\n",
       "      <td>153.000000</td>\n",
       "      <td>0.800000</td>\n",
       "      <td>0.000000</td>\n",
       "    </tr>\n",
       "    <tr>\n",
       "      <th>75%</th>\n",
       "      <td>61.000000</td>\n",
       "      <td>140.000000</td>\n",
       "      <td>275.000000</td>\n",
       "      <td>166.000000</td>\n",
       "      <td>1.600000</td>\n",
       "      <td>2.000000</td>\n",
       "    </tr>\n",
       "    <tr>\n",
       "      <th>max</th>\n",
       "      <td>77.000000</td>\n",
       "      <td>200.000000</td>\n",
       "      <td>564.000000</td>\n",
       "      <td>202.000000</td>\n",
       "      <td>6.200000</td>\n",
       "      <td>4.000000</td>\n",
       "    </tr>\n",
       "  </tbody>\n",
       "</table>\n",
       "</div>"
      ],
      "text/plain": [
       "              age    trestbps        chol     thalach     oldpeak         num\n",
       "count  303.000000  303.000000  303.000000  303.000000  303.000000  303.000000\n",
       "mean    54.438944  131.689769  246.693069  149.607261    1.039604    0.937294\n",
       "std      9.038662   17.599748   51.776918   22.875003    1.161075    1.228536\n",
       "min     29.000000   94.000000  126.000000   71.000000    0.000000    0.000000\n",
       "25%     48.000000  120.000000  211.000000  133.500000    0.000000    0.000000\n",
       "50%     56.000000  130.000000  241.000000  153.000000    0.800000    0.000000\n",
       "75%     61.000000  140.000000  275.000000  166.000000    1.600000    2.000000\n",
       "max     77.000000  200.000000  564.000000  202.000000    6.200000    4.000000"
      ]
     },
     "execution_count": 20,
     "metadata": {},
     "output_type": "execute_result"
    }
   ],
   "source": [
    "df.describe()"
   ]
  },
  {
   "cell_type": "markdown",
   "metadata": {
    "id": "_TqAIFln8kIK"
   },
   "source": [
    "####Before we plot the outliers, let's change the labeling for better visualization and interpretation."
   ]
  },
  {
   "cell_type": "code",
   "execution_count": 22,
   "metadata": {
    "executionInfo": {
     "elapsed": 16,
     "status": "ok",
     "timestamp": 1649826477535,
     "user": {
      "displayName": "SHREESUDHA KEMBHAVI",
      "userId": "10086774456889755429"
     },
     "user_tz": -330
    },
    "id": "BD9Hadfc8naS"
   },
   "outputs": [],
   "source": [
    "# df['target'] = df.target.replace({1: \"Disease\", 0: \"No_disease\"})\n",
    "df['sex'] = df.sex.replace({1: \"Male\", 0: \"Female\"})\n",
    "df['cp'] = df.cp.replace({0: \"typical_angina\", \n",
    "                          1: \"atypical_angina\", \n",
    "                          2:\"non-anginal pain\",\n",
    "                          3: \"asymtomatic\"})\n",
    "df['exang'] = df.exang.replace({1: \"Yes\", 0: \"No\"})\n",
    "df['fbs'] = df.fbs.replace({1: \"True\", 0: \"False\"})\n",
    "df['slope'] = df.slope.replace({0: \"upsloping\", 1: \"flat\",2:\"downsloping\"})\n",
    "df['thal'] = df.thal.replace({1: \"fixed_defect\", 2: \"reversable_defect\", 3:\"normal\"})"
   ]
  },
  {
   "cell_type": "markdown",
   "metadata": {
    "id": "PNREAP9v8vNa"
   },
   "source": [
    "###Outliers Detection & Handling"
   ]
  },
  {
   "cell_type": "code",
   "execution_count": 26,
   "metadata": {},
   "outputs": [],
   "source": [
    "xx=df.slope.value_counts()"
   ]
  },
  {
   "cell_type": "code",
   "execution_count": 27,
   "metadata": {},
   "outputs": [
    {
     "data": {
      "image/png": "[encoded data removed]",
      "text/plain": [
       "<Figure size 640x480 with 1 Axes>"
      ]
     },
     "metadata": {},
     "output_type": "display_data"
    }
   ],
   "source": [
    "plt.pie(xx,\n",
    "        labels=xx.index,\n",
    "        autopct='%1.3f%%',\n",
    "       explode=[0,0,0.1]);"
   ]
  },
  {
   "cell_type": "code",
   "execution_count": 34,
   "metadata": {},
   "outputs": [
    {
     "data": {
      "text/plain": [
       "exang\n",
       "No     204\n",
       "Yes     99\n",
       "Name: count, dtype: int64"
      ]
     },
     "execution_count": 34,
     "metadata": {},
     "output_type": "execute_result"
    }
   ],
   "source": [
    "yy=df.exang.value_counts()\n",
    "yy"
   ]
  },
  {
   "cell_type": "code",
   "execution_count": 37,
   "metadata": {},
   "outputs": [
    {
     "data": {
      "image/png": "[encoded data removed]",
      "text/plain": [
       "<Figure size 640x480 with 1 Axes>"
      ]
     },
     "metadata": {},
     "output_type": "display_data"
    }
   ],
   "source": [
    "plt.pie(yy,\n",
    "        labels=yy.index,\n",
    "        autopct='%1.3f%%',\n",
    "       explode=[0,0]);"
   ]
  },
  {
   "cell_type": "code",
   "execution_count": 38,
   "metadata": {},
   "outputs": [
    {
     "data": {
      "text/plain": [
       "thal\n",
       "3    166\n",
       "7    117\n",
       "6     18\n",
       "?      2\n",
       "Name: count, dtype: int64"
      ]
     },
     "execution_count": 38,
     "metadata": {},
     "output_type": "execute_result"
    }
   ],
   "source": [
    "zz=df.thal.value_counts()\n",
    "zz"
   ]
  },
  {
   "cell_type": "code",
   "execution_count": 42,
   "metadata": {},
   "outputs": [
    {
     "data": {
      "image/png": "[encoded data removed]",
      "text/plain": [
       "<Figure size 640x480 with 1 Axes>"
      ]
     },
     "metadata": {},
     "output_type": "display_data"
    }
   ],
   "source": [
    "plt.pie(zz,\n",
    "        labels=zz.index,\n",
    "        autopct='%1.3f%%',\n",
    "       explode=[0,0,0,0]);"
   ]
  },
  {
   "cell_type": "code",
   "execution_count": 25,
   "metadata": {
    "colab": {
     "base_uri": "https://localhost:8080/",
     "height": 335
    },
    "executionInfo": {
     "elapsed": 614,
     "status": "ok",
     "timestamp": 1649826478132,
     "user": {
      "displayName": "SHREESUDHA KEMBHAVI",
      "userId": "10086774456889755429"
     },
     "user_tz": -330
    },
    "id": "SqAoXzhD8zxi",
    "outputId": "c0203d89-0fc7-4963-c853-e6086a1202c8"
   },
   "outputs": [
    {
     "data": {
      "image/png": "[encoded data removed]",
      "text/plain": [
       "<Figure size 640x480 with 1 Axes>"
      ]
     },
     "metadata": {},
     "output_type": "display_data"
    }
   ],
   "source": [
    "import matplotlib.pyplot as plt\n",
    "import seaborn as sb\n",
    "bxplt = sb.boxplot(df[\"chol\"])\n",
    "plt.show()"
   ]
  },
  {
   "cell_type": "code",
   "execution_count": 74,
   "metadata": {
    "colab": {
     "base_uri": "https://localhost:8080/",
     "height": 297
    },
    "executionInfo": {
     "elapsed": 28,
     "status": "ok",
     "timestamp": 1649826478133,
     "user": {
      "displayName": "SHREESUDHA KEMBHAVI",
      "userId": "10086774456889755429"
     },
     "user_tz": -330
    },
    "id": "KOHYZbeG95a-",
    "outputId": "f5f05e1e-f2df-4eee-8a1e-7ad137ddc2f0"
   },
   "outputs": [
    {
     "data": {
      "text/plain": [
       "<matplotlib.axes._subplots.AxesSubplot at 0x7f7715c1cf10>"
      ]
     },
     "execution_count": 74,
     "metadata": {},
     "output_type": "execute_result"
    },
    {
     "data": {
      "image/png": "[encoded data removed]",
      "text/plain": [
       "<Figure size 432x288 with 1 Axes>"
      ]
     },
     "metadata": {
      "needs_background": "light"
     },
     "output_type": "display_data"
    }
   ],
   "source": [
    "sb.boxplot(x='target', y='oldpeak', data=df)"
   ]
  },
  {
   "cell_type": "code",
   "execution_count": 75,
   "metadata": {
    "colab": {
     "base_uri": "https://localhost:8080/"
    },
    "executionInfo": {
     "elapsed": 26,
     "status": "ok",
     "timestamp": 1649826478134,
     "user": {
      "displayName": "SHREESUDHA KEMBHAVI",
      "userId": "10086774456889755429"
     },
     "user_tz": -330
    },
    "id": "f9YAsdz--ENn",
    "outputId": "1c50c6f1-70dc-487b-d545-41d03913bd6f"
   },
   "outputs": [
    {
     "name": "stdout",
     "output_type": "stream",
     "text": [
      "For the feature age, No of Outliers is 0\n",
      "For the feature trestbps, No of Outliers is 9\n",
      "For the feature chol, No of Outliers is 5\n",
      "For the feature thalach, No of Outliers is 1\n",
      "For the feature oldpeak, No of Outliers is 5\n"
     ]
    }
   ],
   "source": [
    "# define continuous variable & plot\n",
    "continous_features = ['age','trestbps','chol','thalach','oldpeak']  \n",
    "def outliers(df_out, drop = False):\n",
    "    for each_feature in df_out.columns:\n",
    "        feature_data = df_out[each_feature]\n",
    "        Q1 = np.percentile(feature_data, 25.) # 25th percentile of the data of the given feature\n",
    "        Q3 = np.percentile(feature_data, 75.) # 75th percentile of the data of the given feature\n",
    "        IQR = Q3-Q1 #Interquartile Range\n",
    "        outlier_step = IQR * 1.5 #That's we were talking about above\n",
    "        outliers = feature_data[~((feature_data >= Q1 - outlier_step) & (feature_data <= Q3 + outlier_step))].index.tolist()  \n",
    "        if not drop:\n",
    "            print('For the feature {}, No of Outliers is {}'.format(each_feature, len(outliers)))\n",
    "        if drop:\n",
    "            df.drop(outliers, inplace = True, errors = 'ignore')\n",
    "            print('Outliers from {} feature removed'.format(each_feature))\n",
    "\n",
    "outliers(df[continous_features])"
   ]
  },
  {
   "cell_type": "markdown",
   "metadata": {
    "id": "AJUW4Cpr-ioT"
   },
   "source": [
    "**Drop Outliers**"
   ]
  },
  {
   "cell_type": "code",
   "execution_count": 76,
   "metadata": {
    "colab": {
     "base_uri": "https://localhost:8080/"
    },
    "executionInfo": {
     "elapsed": 25,
     "status": "ok",
     "timestamp": 1649826478134,
     "user": {
      "displayName": "SHREESUDHA KEMBHAVI",
      "userId": "10086774456889755429"
     },
     "user_tz": -330
    },
    "id": "fo7LziFd-mxi",
    "outputId": "2be67705-704f-48a2-faff-68e17e8d2d0e"
   },
   "outputs": [
    {
     "name": "stdout",
     "output_type": "stream",
     "text": [
      "Outliers from age feature removed\n",
      "Outliers from trestbps feature removed\n",
      "Outliers from chol feature removed\n",
      "Outliers from thalach feature removed\n",
      "Outliers from oldpeak feature removed\n"
     ]
    }
   ],
   "source": [
    "outliers(df[continous_features],drop=True)"
   ]
  },
  {
   "cell_type": "code",
   "execution_count": 86,
   "metadata": {
    "executionInfo": {
     "elapsed": 426,
     "status": "ok",
     "timestamp": 1649826500127,
     "user": {
      "displayName": "SHREESUDHA KEMBHAVI",
      "userId": "10086774456889755429"
     },
     "user_tz": -330
    },
    "id": "qeB09NUTTwWA"
   },
   "outputs": [],
   "source": [
    "from sklearn import preprocessing\n",
    "df=df.apply(preprocessing.LabelEncoder().fit_transform)"
   ]
  },
  {
   "cell_type": "code",
   "execution_count": null,
   "metadata": {
    "id": "21kKFgunUom-"
   },
   "outputs": [],
   "source": []
  },
  {
   "cell_type": "code",
   "execution_count": 77,
   "metadata": {
    "executionInfo": {
     "elapsed": 20,
     "status": "ok",
     "timestamp": 1649826478134,
     "user": {
      "displayName": "SHREESUDHA KEMBHAVI",
      "userId": "10086774456889755429"
     },
     "user_tz": -330
    },
    "id": "Iu53kzzkURia"
   },
   "outputs": [],
   "source": []
  },
  {
   "cell_type": "code",
   "execution_count": 77,
   "metadata": {
    "executionInfo": {
     "elapsed": 20,
     "status": "ok",
     "timestamp": 1649826478134,
     "user": {
      "displayName": "SHREESUDHA KEMBHAVI",
      "userId": "10086774456889755429"
     },
     "user_tz": -330
    },
    "id": "pgtALdpLTw3q"
   },
   "outputs": [],
   "source": []
  },
  {
   "cell_type": "code",
   "execution_count": 87,
   "metadata": {
    "colab": {
     "base_uri": "https://localhost:8080/",
     "height": 206
    },
    "executionInfo": {
     "elapsed": 476,
     "status": "ok",
     "timestamp": 1649826505894,
     "user": {
      "displayName": "SHREESUDHA KEMBHAVI",
      "userId": "10086774456889755429"
     },
     "user_tz": -330
    },
    "id": "WYka9RT998GO",
    "outputId": "9b9402c0-cd4f-49c7-b833-9128150c24fa"
   },
   "outputs": [
    {
     "data": {
      "text/html": [
       "\n",
       "  <div id=\"df-7ba54417-0519-4305-9268-31fe96ce232f\">\n",
       "    <div class=\"colab-df-container\">\n",
       "      <div>\n",
       "<style scoped>\n",
       "    .dataframe tbody tr th:only-of-type {\n",
       "        vertical-align: middle;\n",
       "    }\n",
       "\n",
       "    .dataframe tbody tr th {\n",
       "        vertical-align: top;\n",
       "    }\n",
       "\n",
       "    .dataframe thead th {\n",
       "        text-align: right;\n",
       "    }\n",
       "</style>\n",
       "<table border=\"1\" class=\"dataframe\">\n",
       "  <thead>\n",
       "    <tr style=\"text-align: right;\">\n",
       "      <th></th>\n",
       "      <th>age</th>\n",
       "      <th>sex</th>\n",
       "      <th>cp</th>\n",
       "      <th>trestbps</th>\n",
       "      <th>chol</th>\n",
       "      <th>fbs</th>\n",
       "      <th>restecg</th>\n",
       "      <th>thalach</th>\n",
       "      <th>exang</th>\n",
       "      <th>oldpeak</th>\n",
       "      <th>slope</th>\n",
       "      <th>ca</th>\n",
       "      <th>thal</th>\n",
       "    </tr>\n",
       "  </thead>\n",
       "  <tbody>\n",
       "    <tr>\n",
       "      <th>0</th>\n",
       "      <td>29</td>\n",
       "      <td>1</td>\n",
       "      <td>0</td>\n",
       "      <td>30</td>\n",
       "      <td>62</td>\n",
       "      <td>1</td>\n",
       "      <td>0</td>\n",
       "      <td>47</td>\n",
       "      <td>0</td>\n",
       "      <td>22</td>\n",
       "      <td>2</td>\n",
       "      <td>0</td>\n",
       "      <td>0</td>\n",
       "    </tr>\n",
       "    <tr>\n",
       "      <th>1</th>\n",
       "      <td>3</td>\n",
       "      <td>1</td>\n",
       "      <td>2</td>\n",
       "      <td>21</td>\n",
       "      <td>77</td>\n",
       "      <td>0</td>\n",
       "      <td>1</td>\n",
       "      <td>82</td>\n",
       "      <td>0</td>\n",
       "      <td>32</td>\n",
       "      <td>2</td>\n",
       "      <td>0</td>\n",
       "      <td>2</td>\n",
       "    </tr>\n",
       "    <tr>\n",
       "      <th>2</th>\n",
       "      <td>7</td>\n",
       "      <td>0</td>\n",
       "      <td>1</td>\n",
       "      <td>21</td>\n",
       "      <td>34</td>\n",
       "      <td>0</td>\n",
       "      <td>0</td>\n",
       "      <td>69</td>\n",
       "      <td>0</td>\n",
       "      <td>14</td>\n",
       "      <td>0</td>\n",
       "      <td>0</td>\n",
       "      <td>2</td>\n",
       "    </tr>\n",
       "    <tr>\n",
       "      <th>3</th>\n",
       "      <td>22</td>\n",
       "      <td>1</td>\n",
       "      <td>1</td>\n",
       "      <td>13</td>\n",
       "      <td>65</td>\n",
       "      <td>0</td>\n",
       "      <td>1</td>\n",
       "      <td>74</td>\n",
       "      <td>0</td>\n",
       "      <td>8</td>\n",
       "      <td>0</td>\n",
       "      <td>0</td>\n",
       "      <td>2</td>\n",
       "    </tr>\n",
       "    <tr>\n",
       "      <th>4</th>\n",
       "      <td>23</td>\n",
       "      <td>0</td>\n",
       "      <td>3</td>\n",
       "      <td>13</td>\n",
       "      <td>141</td>\n",
       "      <td>0</td>\n",
       "      <td>1</td>\n",
       "      <td>60</td>\n",
       "      <td>1</td>\n",
       "      <td>6</td>\n",
       "      <td>0</td>\n",
       "      <td>0</td>\n",
       "      <td>2</td>\n",
       "    </tr>\n",
       "  </tbody>\n",
       "</table>\n",
       "</div>\n",
       "      <button class=\"colab-df-convert\" onclick=\"convertToInteractive('df-7ba54417-0519-4305-9268-31fe96ce232f')\"\n",
       "              title=\"Convert this dataframe to an interactive table.\"\n",
       "              style=\"display:none;\">\n",
       "        \n",
       "  <svg xmlns=\"http://www.w3.org/2000/svg\" height=\"24px\"viewBox=\"0 0 24 24\"\n",
       "       width=\"24px\">\n",
       "    <path d=\"M0 0h24v24H0V0z\" fill=\"none\"/>\n",
       "    <path d=\"M18.56 5.44l.94 2.06.94-2.06 2.06-.94-2.06-.94-.94-2.06-.94 2.06-2.06.94zm-11 1L8.5 8.5l.94-2.06 2.06-.94-2.06-.94L8.5 2.5l-.94 2.06-2.06.94zm10 10l.94 2.06.94-2.06 2.06-.94-2.06-.94-.94-2.06-.94 2.06-2.06.94z\"/><path d=\"M17.41 7.96l-1.37-1.37c-.4-.4-.92-.59-1.43-.59-.52 0-1.04.2-1.43.59L10.3 9.45l-7.72 7.72c-.78.78-.78 2.05 0 2.83L4 21.41c.39.39.9.59 1.41.59.51 0 1.02-.2 1.41-.59l7.78-7.78 2.81-2.81c.8-.78.8-2.07 0-2.86zM5.41 20L4 18.59l7.72-7.72 1.47 1.35L5.41 20z\"/>\n",
       "  </svg>\n",
       "      </button>\n",
       "      \n",
       "  <style>\n",
       "    .colab-df-container {\n",
       "      display:flex;\n",
       "      flex-wrap:wrap;\n",
       "      gap: 12px;\n",
       "    }\n",
       "\n",
       "    .colab-df-convert {\n",
       "      background-color: #E8F0FE;\n",
       "      border: none;\n",
       "      border-radius: 50%;\n",
       "      cursor: pointer;\n",
       "      display: none;\n",
       "      fill: #1967D2;\n",
       "      height: 32px;\n",
       "      padding: 0 0 0 0;\n",
       "      width: 32px;\n",
       "    }\n",
       "\n",
       "    .colab-df-convert:hover {\n",
       "      background-color: #E2EBFA;\n",
       "      box-shadow: 0px 1px 2px rgba(60, 64, 67, 0.3), 0px 1px 3px 1px rgba(60, 64, 67, 0.15);\n",
       "      fill: #174EA6;\n",
       "    }\n",
       "\n",
       "    [theme=dark] .colab-df-convert {\n",
       "      background-color: #3B4455;\n",
       "      fill: #D2E3FC;\n",
       "    }\n",
       "\n",
       "    [theme=dark] .colab-df-convert:hover {\n",
       "      background-color: #434B5C;\n",
       "      box-shadow: 0px 1px 3px 1px rgba(0, 0, 0, 0.15);\n",
       "      filter: drop-shadow(0px 1px 2px rgba(0, 0, 0, 0.3));\n",
       "      fill: #FFFFFF;\n",
       "    }\n",
       "  </style>\n",
       "\n",
       "      <script>\n",
       "        const buttonEl =\n",
       "          document.querySelector('#df-7ba54417-0519-4305-9268-31fe96ce232f button.colab-df-convert');\n",
       "        buttonEl.style.display =\n",
       "          google.colab.kernel.accessAllowed ? 'block' : 'none';\n",
       "\n",
       "        async function convertToInteractive(key) {\n",
       "          const element = document.querySelector('#df-7ba54417-0519-4305-9268-31fe96ce232f');\n",
       "          const dataTable =\n",
       "            await google.colab.kernel.invokeFunction('convertToInteractive',\n",
       "                                                     [key], {});\n",
       "          if (!dataTable) return;\n",
       "\n",
       "          const docLinkHtml = 'Like what you see? Visit the ' +\n",
       "            '<a target=\"_blank\" href=https://colab.research.google.com/notebooks/data_table.ipynb>data table notebook</a>'\n",
       "            + ' to learn more about interactive tables.';\n",
       "          element.innerHTML = '';\n",
       "          dataTable['output_type'] = 'display_data';\n",
       "          await google.colab.output.renderOutput(dataTable, element);\n",
       "          const docLink = document.createElement('div');\n",
       "          docLink.innerHTML = docLinkHtml;\n",
       "          element.appendChild(docLink);\n",
       "        }\n",
       "      </script>\n",
       "    </div>\n",
       "  </div>\n",
       "  "
      ],
      "text/plain": [
       "   age  sex  cp  trestbps  chol  fbs  restecg  thalach  exang  oldpeak  slope  \\\n",
       "0   29    1   0        30    62    1        0       47      0       22      2   \n",
       "1    3    1   2        21    77    0        1       82      0       32      2   \n",
       "2    7    0   1        21    34    0        0       69      0       14      0   \n",
       "3   22    1   1        13    65    0        1       74      0        8      0   \n",
       "4   23    0   3        13   141    0        1       60      1        6      0   \n",
       "\n",
       "   ca  thal  \n",
       "0   0     0  \n",
       "1   0     2  \n",
       "2   0     2  \n",
       "3   0     2  \n",
       "4   0     2  "
      ]
     },
     "execution_count": 87,
     "metadata": {},
     "output_type": "execute_result"
    }
   ],
   "source": [
    "X = df.drop('target', axis=1)\n",
    "X.head()"
   ]
  },
  {
   "cell_type": "code",
   "execution_count": null,
   "metadata": {
    "id": "upnszcHeUqAB"
   },
   "outputs": [],
   "source": []
  },
  {
   "cell_type": "code",
   "execution_count": 78,
   "metadata": {
    "executionInfo": {
     "elapsed": 20,
     "status": "ok",
     "timestamp": 1649826478135,
     "user": {
      "displayName": "SHREESUDHA KEMBHAVI",
      "userId": "10086774456889755429"
     },
     "user_tz": -330
    },
    "id": "upU7czhKUXza"
   },
   "outputs": [],
   "source": []
  },
  {
   "cell_type": "code",
   "execution_count": 79,
   "metadata": {
    "colab": {
     "base_uri": "https://localhost:8080/"
    },
    "executionInfo": {
     "elapsed": 20,
     "status": "ok",
     "timestamp": 1649826478135,
     "user": {
      "displayName": "SHREESUDHA KEMBHAVI",
      "userId": "10086774456889755429"
     },
     "user_tz": -330
    },
    "id": "O_iMto0INvMY",
    "outputId": "78fe6892-14e1-4472-ddb9-f1bd7ea782bb"
   },
   "outputs": [
    {
     "data": {
      "text/plain": [
       "(284, 13)"
      ]
     },
     "execution_count": 79,
     "metadata": {},
     "output_type": "execute_result"
    }
   ],
   "source": [
    "X.shape"
   ]
  },
  {
   "cell_type": "code",
   "execution_count": 88,
   "metadata": {
    "executionInfo": {
     "elapsed": 446,
     "status": "ok",
     "timestamp": 1649826513851,
     "user": {
      "displayName": "SHREESUDHA KEMBHAVI",
      "userId": "10086774456889755429"
     },
     "user_tz": -330
    },
    "id": "Yptvd3JyOIti"
   },
   "outputs": [],
   "source": [
    "y = df['target']"
   ]
  },
  {
   "cell_type": "code",
   "execution_count": null,
   "metadata": {
    "id": "_l1R4611Ur9S"
   },
   "outputs": [],
   "source": []
  },
  {
   "cell_type": "code",
   "execution_count": 80,
   "metadata": {
    "executionInfo": {
     "elapsed": 18,
     "status": "ok",
     "timestamp": 1649826478136,
     "user": {
      "displayName": "SHREESUDHA KEMBHAVI",
      "userId": "10086774456889755429"
     },
     "user_tz": -330
    },
    "id": "1IlSVs7NUa2W"
   },
   "outputs": [],
   "source": []
  },
  {
   "cell_type": "code",
   "execution_count": 81,
   "metadata": {
    "colab": {
     "base_uri": "https://localhost:8080/"
    },
    "executionInfo": {
     "elapsed": 18,
     "status": "ok",
     "timestamp": 1649826478136,
     "user": {
      "displayName": "SHREESUDHA KEMBHAVI",
      "userId": "10086774456889755429"
     },
     "user_tz": -330
    },
    "id": "6lUFu72POYI9",
    "outputId": "6f9902e4-7f90-4448-f274-ee389c8754d6"
   },
   "outputs": [
    {
     "data": {
      "text/plain": [
       "0     Disease\n",
       "1     Disease\n",
       "2     Disease\n",
       "3     Disease\n",
       "4     Disease\n",
       "5     Disease\n",
       "6     Disease\n",
       "7     Disease\n",
       "9     Disease\n",
       "10    Disease\n",
       "Name: target, dtype: object"
      ]
     },
     "execution_count": 81,
     "metadata": {},
     "output_type": "execute_result"
    }
   ],
   "source": [
    "y.head(10)"
   ]
  },
  {
   "cell_type": "code",
   "execution_count": 82,
   "metadata": {
    "colab": {
     "base_uri": "https://localhost:8080/"
    },
    "executionInfo": {
     "elapsed": 16,
     "status": "ok",
     "timestamp": 1649826478136,
     "user": {
      "displayName": "SHREESUDHA KEMBHAVI",
      "userId": "10086774456889755429"
     },
     "user_tz": -330
    },
    "id": "0GMr9FV1Oa1o",
    "outputId": "5cf256c7-0f6d-4252-9d3b-958a32cea86f"
   },
   "outputs": [
    {
     "data": {
      "text/plain": [
       "(284,)"
      ]
     },
     "execution_count": 82,
     "metadata": {},
     "output_type": "execute_result"
    }
   ],
   "source": [
    "y.shape"
   ]
  },
  {
   "cell_type": "code",
   "execution_count": 89,
   "metadata": {
    "executionInfo": {
     "elapsed": 440,
     "status": "ok",
     "timestamp": 1649826518374,
     "user": {
      "displayName": "SHREESUDHA KEMBHAVI",
      "userId": "10086774456889755429"
     },
     "user_tz": -330
    },
    "id": "Xgd7euBXOjIM"
   },
   "outputs": [],
   "source": [
    "from sklearn.model_selection import train_test_split\n",
    "X_train, X_test, y_train, y_test = train_test_split(X, y, test_size=0.2, random_state=0)"
   ]
  },
  {
   "cell_type": "code",
   "execution_count": null,
   "metadata": {
    "id": "A0C4qbFjUtDm"
   },
   "outputs": [],
   "source": []
  },
  {
   "cell_type": "code",
   "execution_count": 83,
   "metadata": {
    "executionInfo": {
     "elapsed": 18,
     "status": "ok",
     "timestamp": 1649826478139,
     "user": {
      "displayName": "SHREESUDHA KEMBHAVI",
      "userId": "10086774456889755429"
     },
     "user_tz": -330
    },
    "id": "cfrQMtZpUcVF"
   },
   "outputs": [],
   "source": []
  },
  {
   "cell_type": "code",
   "execution_count": 84,
   "metadata": {
    "colab": {
     "base_uri": "https://localhost:8080/"
    },
    "executionInfo": {
     "elapsed": 18,
     "status": "ok",
     "timestamp": 1649826478139,
     "user": {
      "displayName": "SHREESUDHA KEMBHAVI",
      "userId": "10086774456889755429"
     },
     "user_tz": -330
    },
    "id": "HcYLvmmhO9tt",
    "outputId": "73ca05b0-673b-46f3-d881-c020578871f7"
   },
   "outputs": [
    {
     "name": "stdout",
     "output_type": "stream",
     "text": [
      "X_train :  (227, 13)\n",
      "X_test :  (57, 13)\n",
      "y_train :  (227,)\n",
      "y_test :  (57,)\n"
     ]
    }
   ],
   "source": [
    "print(\"X_train : \",X_train.shape)\n",
    "print(\"X_test : \",X_test.shape)\n",
    "print(\"y_train : \",y_train.shape)\n",
    "print(\"y_test : \",y_test.shape)"
   ]
  },
  {
   "cell_type": "code",
   "execution_count": 84,
   "metadata": {
    "executionInfo": {
     "elapsed": 17,
     "status": "ok",
     "timestamp": 1649826478139,
     "user": {
      "displayName": "SHREESUDHA KEMBHAVI",
      "userId": "10086774456889755429"
     },
     "user_tz": -330
    },
    "id": "XgnTJzg1UdA3"
   },
   "outputs": [],
   "source": []
  },
  {
   "cell_type": "code",
   "execution_count": 90,
   "metadata": {
    "executionInfo": {
     "elapsed": 1671,
     "status": "ok",
     "timestamp": 1649826523455,
     "user": {
      "displayName": "SHREESUDHA KEMBHAVI",
      "userId": "10086774456889755429"
     },
     "user_tz": -330
    },
    "id": "eemUGQpoPKkM"
   },
   "outputs": [],
   "source": [
    "from sklearn.tree import DecisionTreeClassifier\n",
    "from sklearn import metrics\n",
    "clf = DecisionTreeClassifier()\n",
    "clf = clf.fit(X_train, y_train)\n",
    "y_pred = clf.predict(X_test)"
   ]
  },
  {
   "cell_type": "code",
   "execution_count": 91,
   "metadata": {
    "colab": {
     "base_uri": "https://localhost:8080/"
    },
    "executionInfo": {
     "elapsed": 541,
     "status": "ok",
     "timestamp": 1649826537401,
     "user": {
      "displayName": "SHREESUDHA KEMBHAVI",
      "userId": "10086774456889755429"
     },
     "user_tz": -330
    },
    "id": "VOO71nf0Ut_3",
    "outputId": "ebf7d237-9c48-4812-bbc8-79183a70dd97"
   },
   "outputs": [
    {
     "name": "stdout",
     "output_type": "stream",
     "text": [
      "[0 1 0 1 1 0 1 1 1 0 1 1 0 1 1 0 1 0 0 1 0 1 1 1 1 0 0 1 1 1 0 0 1 1 1 0 1\n",
      " 1 1 0 0 1 0 1 0 1 1 1 1 1 0 1 0 0 0 1 1]\n"
     ]
    }
   ],
   "source": [
    "print(y_pred)"
   ]
  },
  {
   "cell_type": "code",
   "execution_count": null,
   "metadata": {
    "id": "snXbn7rOUxrn"
   },
   "outputs": [],
   "source": []
  },
  {
   "cell_type": "code",
   "execution_count": null,
   "metadata": {
    "executionInfo": {
     "elapsed": 16,
     "status": "aborted",
     "timestamp": 1649826478139,
     "user": {
      "displayName": "SHREESUDHA KEMBHAVI",
      "userId": "10086774456889755429"
     },
     "user_tz": -330
    },
    "id": "d-T8I2Q1Ufja"
   },
   "outputs": [],
   "source": []
  },
  {
   "cell_type": "code",
   "execution_count": null,
   "metadata": {
    "executionInfo": {
     "elapsed": 17,
     "status": "aborted",
     "timestamp": 1649826478140,
     "user": {
      "displayName": "SHREESUDHA KEMBHAVI",
      "userId": "10086774456889755429"
     },
     "user_tz": -330
    },
    "id": "g26Dfm87UeC1"
   },
   "outputs": [],
   "source": []
  },
  {
   "cell_type": "code",
   "execution_count": null,
   "metadata": {
    "executionInfo": {
     "elapsed": 17,
     "status": "aborted",
     "timestamp": 1649826478140,
     "user": {
      "displayName": "SHREESUDHA KEMBHAVI",
      "userId": "10086774456889755429"
     },
     "user_tz": -330
    },
    "id": "6YAsFppnTVZp"
   },
   "outputs": [],
   "source": []
  },
  {
   "cell_type": "code",
   "execution_count": null,
   "metadata": {
    "executionInfo": {
     "elapsed": 17,
     "status": "aborted",
     "timestamp": 1649826478140,
     "user": {
      "displayName": "SHREESUDHA KEMBHAVI",
      "userId": "10086774456889755429"
     },
     "user_tz": -330
    },
    "id": "DLUeSKnUOwc5"
   },
   "outputs": [],
   "source": []
  },
  {
   "cell_type": "code",
   "execution_count": null,
   "metadata": {
    "executionInfo": {
     "elapsed": 17,
     "status": "aborted",
     "timestamp": 1649826478140,
     "user": {
      "displayName": "SHREESUDHA KEMBHAVI",
      "userId": "10086774456889755429"
     },
     "user_tz": -330
    },
    "id": "oMZvSiLcOG9p"
   },
   "outputs": [],
   "source": []
  }
 ],
 "metadata": {
  "colab": {
   "collapsed_sections": [],
   "name": "heart.ipynb",
   "provenance": []
  },
  "kernelspec": {
   "display_name": "Python 3 (ipykernel)",
   "language": "python",
   "name": "python3"
  },
  "language_info": {
   "codemirror_mode": {
    "name": "ipython",
    "version": 3
   },
   "file_extension": ".py",
   "mimetype": "text/x-python",
   "name": "python",
   "nbconvert_exporter": "python",
   "pygments_lexer": "ipython3",
   "version": "3.11.5"
  }
 },
 "nbformat": 4,
 "nbformat_minor": 4
}
